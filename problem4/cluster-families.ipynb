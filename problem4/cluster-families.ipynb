{
 "cells": [
  {
   "cell_type": "markdown",
   "id": "552c33b2-ab4d-4b0b-9e56-57a809822e1d",
   "metadata": {},
   "source": [
    "# Problem 3\n",
    "\n",
    "This challenge's goal is to cluster a genetic expression dataset to find out which individuals belong to the same family.\n",
    "\n",
    "The available dataset contains read counts on 65215 genes for 48 individuals. Read counts are simply the number of reads overlapping a given feature such as a gene.\n",
    "\n",
    "The steps are listed bellow:\n",
    "\n",
    "1. Preprocessing\n",
    "\n",
    "    1.1 Dimension Reduction\n",
    "    \n",
    "2. Modeling\n",
    "\n",
    "    2.1 Mean Shift\n",
    "    \n",
    "    2.2 Affinity Propagation\n",
    "    \n",
    "    2.3 K-Means (cotovelo)\n",
    "    \n",
    "3. Results"
   ]
  },
  {
   "cell_type": "code",
   "execution_count": 1,
   "id": "3bc396a9-e478-4cb3-97a8-a29e55ae3418",
   "metadata": {},
   "outputs": [],
   "source": [
    "import collections\n",
    "\n",
    "import numpy as np\n",
    "import pandas as pd\n",
    "import matplotlib.pyplot as plt\n",
    "import matplotlib.ticker as mtick\n",
    "\n",
    "from sklearn.preprocessing import MinMaxScaler\n",
    "from sklearn.decomposition import PCA\n",
    "from sklearn.cluster import MeanShift\n",
    "from sklearn.cluster import AffinityPropagation"
   ]
  },
  {
   "cell_type": "code",
   "execution_count": 2,
   "id": "f51cd23d-e2df-45c2-bfa5-23f506742ec8",
   "metadata": {},
   "outputs": [
    {
     "data": {
      "text/html": [
       "<div>\n",
       "<style scoped>\n",
       "    .dataframe tbody tr th:only-of-type {\n",
       "        vertical-align: middle;\n",
       "    }\n",
       "\n",
       "    .dataframe tbody tr th {\n",
       "        vertical-align: top;\n",
       "    }\n",
       "\n",
       "    .dataframe thead th {\n",
       "        text-align: right;\n",
       "    }\n",
       "</style>\n",
       "<table border=\"1\" class=\"dataframe\">\n",
       "  <thead>\n",
       "    <tr style=\"text-align: right;\">\n",
       "      <th></th>\n",
       "      <th>H223</th>\n",
       "      <th>H224</th>\n",
       "      <th>H225</th>\n",
       "      <th>H226</th>\n",
       "      <th>H227</th>\n",
       "    </tr>\n",
       "    <tr>\n",
       "      <th>gene</th>\n",
       "      <th></th>\n",
       "      <th></th>\n",
       "      <th></th>\n",
       "      <th></th>\n",
       "      <th></th>\n",
       "    </tr>\n",
       "  </thead>\n",
       "  <tbody>\n",
       "    <tr>\n",
       "      <th>ENSG00000000003</th>\n",
       "      <td>0</td>\n",
       "      <td>0</td>\n",
       "      <td>0</td>\n",
       "      <td>1</td>\n",
       "      <td>0</td>\n",
       "    </tr>\n",
       "    <tr>\n",
       "      <th>ENSG00000000005</th>\n",
       "      <td>0</td>\n",
       "      <td>0</td>\n",
       "      <td>0</td>\n",
       "      <td>0</td>\n",
       "      <td>0</td>\n",
       "    </tr>\n",
       "    <tr>\n",
       "      <th>ENSG00000000419</th>\n",
       "      <td>1216</td>\n",
       "      <td>1228</td>\n",
       "      <td>1022</td>\n",
       "      <td>912</td>\n",
       "      <td>491</td>\n",
       "    </tr>\n",
       "    <tr>\n",
       "      <th>ENSG00000000457</th>\n",
       "      <td>189</td>\n",
       "      <td>114</td>\n",
       "      <td>110</td>\n",
       "      <td>289</td>\n",
       "      <td>186</td>\n",
       "    </tr>\n",
       "    <tr>\n",
       "      <th>ENSG00000000460</th>\n",
       "      <td>74</td>\n",
       "      <td>38</td>\n",
       "      <td>55</td>\n",
       "      <td>127</td>\n",
       "      <td>30</td>\n",
       "    </tr>\n",
       "  </tbody>\n",
       "</table>\n",
       "</div>"
      ],
      "text/plain": [
       "                 H223  H224  H225  H226  H227\n",
       "gene                                         \n",
       "ENSG00000000003     0     0     0     1     0\n",
       "ENSG00000000005     0     0     0     0     0\n",
       "ENSG00000000419  1216  1228  1022   912   491\n",
       "ENSG00000000457   189   114   110   289   186\n",
       "ENSG00000000460    74    38    55   127    30"
      ]
     },
     "execution_count": 2,
     "metadata": {},
     "output_type": "execute_result"
    }
   ],
   "source": [
    "raw_df = pd.read_excel(\n",
    "    io='data/readcounts.xlsx',\n",
    "    sheet_name='Sheet 1',\n",
    ")\n",
    "raw_df.rename(\n",
    "    columns={\n",
    "        'Unnamed: 0': 'gene',\n",
    "    },\n",
    "    inplace=True,\n",
    ")\n",
    "raw_df.set_index(['gene'], inplace=True)\n",
    "raw_df.iloc[:5, :5]"
   ]
  },
  {
   "cell_type": "code",
   "execution_count": 3,
   "id": "6d43cd09-166a-4826-8333-291365fa0941",
   "metadata": {},
   "outputs": [
    {
     "data": {
      "text/html": [
       "<div>\n",
       "<style scoped>\n",
       "    .dataframe tbody tr th:only-of-type {\n",
       "        vertical-align: middle;\n",
       "    }\n",
       "\n",
       "    .dataframe tbody tr th {\n",
       "        vertical-align: top;\n",
       "    }\n",
       "\n",
       "    .dataframe thead th {\n",
       "        text-align: right;\n",
       "    }\n",
       "</style>\n",
       "<table border=\"1\" class=\"dataframe\">\n",
       "  <thead>\n",
       "    <tr style=\"text-align: right;\">\n",
       "      <th>gene</th>\n",
       "      <th>ENSG00000000003</th>\n",
       "      <th>ENSG00000000005</th>\n",
       "      <th>ENSG00000000419</th>\n",
       "      <th>ENSG00000000457</th>\n",
       "      <th>ENSG00000000460</th>\n",
       "    </tr>\n",
       "  </thead>\n",
       "  <tbody>\n",
       "    <tr>\n",
       "      <th>H223</th>\n",
       "      <td>0</td>\n",
       "      <td>0</td>\n",
       "      <td>1216</td>\n",
       "      <td>189</td>\n",
       "      <td>74</td>\n",
       "    </tr>\n",
       "    <tr>\n",
       "      <th>H224</th>\n",
       "      <td>0</td>\n",
       "      <td>0</td>\n",
       "      <td>1228</td>\n",
       "      <td>114</td>\n",
       "      <td>38</td>\n",
       "    </tr>\n",
       "    <tr>\n",
       "      <th>H225</th>\n",
       "      <td>0</td>\n",
       "      <td>0</td>\n",
       "      <td>1022</td>\n",
       "      <td>110</td>\n",
       "      <td>55</td>\n",
       "    </tr>\n",
       "    <tr>\n",
       "      <th>H226</th>\n",
       "      <td>1</td>\n",
       "      <td>0</td>\n",
       "      <td>912</td>\n",
       "      <td>289</td>\n",
       "      <td>127</td>\n",
       "    </tr>\n",
       "    <tr>\n",
       "      <th>H227</th>\n",
       "      <td>0</td>\n",
       "      <td>0</td>\n",
       "      <td>491</td>\n",
       "      <td>186</td>\n",
       "      <td>30</td>\n",
       "    </tr>\n",
       "  </tbody>\n",
       "</table>\n",
       "</div>"
      ],
      "text/plain": [
       "gene  ENSG00000000003  ENSG00000000005  ENSG00000000419  ENSG00000000457  \\\n",
       "H223                0                0             1216              189   \n",
       "H224                0                0             1228              114   \n",
       "H225                0                0             1022              110   \n",
       "H226                1                0              912              289   \n",
       "H227                0                0              491              186   \n",
       "\n",
       "gene  ENSG00000000460  \n",
       "H223               74  \n",
       "H224               38  \n",
       "H225               55  \n",
       "H226              127  \n",
       "H227               30  "
      ]
     },
     "execution_count": 3,
     "metadata": {},
     "output_type": "execute_result"
    }
   ],
   "source": [
    "df = raw_df.transpose()\n",
    "df.iloc[:5, :5]"
   ]
  },
  {
   "cell_type": "markdown",
   "id": "5aa00653-c36f-4ffb-a5c5-73f5954d9ccb",
   "metadata": {},
   "source": [
    "## 1. Preprocessing\n",
    "\n",
    "In this step we want to understand better the dataset. Before the analysis the dataset is transposed so we can work with columns as genes and rows as individuals.\n",
    "\n",
    "No null values were found in the dataset."
   ]
  },
  {
   "cell_type": "code",
   "execution_count": 4,
   "id": "559bf48a-7106-42c7-879b-8293a69751ba",
   "metadata": {},
   "outputs": [
    {
     "name": "stdout",
     "output_type": "stream",
     "text": [
      "0 null values in the dataset\n"
     ]
    }
   ],
   "source": [
    "print(f'{df.isnull().sum().sum()} null values in the dataset')"
   ]
  },
  {
   "cell_type": "markdown",
   "id": "1383510e-4559-4c9e-8f31-5fed2af983f6",
   "metadata": {},
   "source": [
    "The features are scaled with MinMaxScaler, which scales and translates each feature individually such that it is in the given range on the training set, e.g. between zero and one."
   ]
  },
  {
   "cell_type": "code",
   "execution_count": 5,
   "id": "c0b0814d-2e40-420f-bd2b-56c62fca37da",
   "metadata": {},
   "outputs": [
    {
     "data": {
      "text/html": [
       "<div>\n",
       "<style scoped>\n",
       "    .dataframe tbody tr th:only-of-type {\n",
       "        vertical-align: middle;\n",
       "    }\n",
       "\n",
       "    .dataframe tbody tr th {\n",
       "        vertical-align: top;\n",
       "    }\n",
       "\n",
       "    .dataframe thead th {\n",
       "        text-align: right;\n",
       "    }\n",
       "</style>\n",
       "<table border=\"1\" class=\"dataframe\">\n",
       "  <thead>\n",
       "    <tr style=\"text-align: right;\">\n",
       "      <th></th>\n",
       "      <th>0</th>\n",
       "      <th>1</th>\n",
       "      <th>2</th>\n",
       "      <th>3</th>\n",
       "      <th>4</th>\n",
       "    </tr>\n",
       "  </thead>\n",
       "  <tbody>\n",
       "    <tr>\n",
       "      <th>0</th>\n",
       "      <td>0.0</td>\n",
       "      <td>0.0</td>\n",
       "      <td>0.986813</td>\n",
       "      <td>0.570815</td>\n",
       "      <td>0.446667</td>\n",
       "    </tr>\n",
       "    <tr>\n",
       "      <th>1</th>\n",
       "      <td>0.0</td>\n",
       "      <td>0.0</td>\n",
       "      <td>1.000000</td>\n",
       "      <td>0.248927</td>\n",
       "      <td>0.206667</td>\n",
       "    </tr>\n",
       "    <tr>\n",
       "      <th>2</th>\n",
       "      <td>0.0</td>\n",
       "      <td>0.0</td>\n",
       "      <td>0.773626</td>\n",
       "      <td>0.231760</td>\n",
       "      <td>0.320000</td>\n",
       "    </tr>\n",
       "    <tr>\n",
       "      <th>3</th>\n",
       "      <td>0.5</td>\n",
       "      <td>0.0</td>\n",
       "      <td>0.652747</td>\n",
       "      <td>1.000000</td>\n",
       "      <td>0.800000</td>\n",
       "    </tr>\n",
       "    <tr>\n",
       "      <th>4</th>\n",
       "      <td>0.0</td>\n",
       "      <td>0.0</td>\n",
       "      <td>0.190110</td>\n",
       "      <td>0.557940</td>\n",
       "      <td>0.153333</td>\n",
       "    </tr>\n",
       "  </tbody>\n",
       "</table>\n",
       "</div>"
      ],
      "text/plain": [
       "     0    1         2         3         4\n",
       "0  0.0  0.0  0.986813  0.570815  0.446667\n",
       "1  0.0  0.0  1.000000  0.248927  0.206667\n",
       "2  0.0  0.0  0.773626  0.231760  0.320000\n",
       "3  0.5  0.0  0.652747  1.000000  0.800000\n",
       "4  0.0  0.0  0.190110  0.557940  0.153333"
      ]
     },
     "execution_count": 5,
     "metadata": {},
     "output_type": "execute_result"
    }
   ],
   "source": [
    "scaler = MinMaxScaler()\n",
    "scaled_df = scaler.fit_transform(df)\n",
    "pd.DataFrame(scaled_df).iloc[:5, :5]"
   ]
  },
  {
   "cell_type": "markdown",
   "id": "b40c02ed-cc4f-4385-be3b-37e44ade172a",
   "metadata": {},
   "source": [
    "### 1.1 Dimension Reduction\n",
    "\n",
    "Then we want to reduce the amount of features that we work. To accomplish this, we use a dimension reduction technique called Principal Component Analysis (PCA).\n",
    "\n",
    "We calculate the explained variance for a big range, then choose the number of components as the first one to increment less than 1% of explained variance."
   ]
  },
  {
   "cell_type": "code",
   "execution_count": 6,
   "id": "9fd22a8a-031d-4307-80a1-31e693f5d73e",
   "metadata": {},
   "outputs": [],
   "source": [
    "explained_variance = []\n",
    "pca_range = range(1, 49)\n",
    "for i in pca_range:\n",
    "    pca = PCA(n_components=i)\n",
    "    pca.fit(scaled_df)\n",
    "    explained_variance.append(\n",
    "        pca.explained_variance_ratio_.sum()\n",
    "    )"
   ]
  },
  {
   "cell_type": "code",
   "execution_count": 7,
   "id": "b225c17b-81fb-428c-a9d5-4a8d070b7474",
   "metadata": {},
   "outputs": [
    {
     "data": {
      "image/png": "[encoded data removed]",
      "text/plain": [
       "<Figure size 432x288 with 1 Axes>"
      ]
     },
     "metadata": {
      "needs_background": "light"
     },
     "output_type": "display_data"
    }
   ],
   "source": [
    "plt.plot(\n",
    "    pca_range,\n",
    "    explained_variance,\n",
    ")\n",
    "plt.grid()\n",
    "\n",
    "plt.xlim(1, 48)\n",
    "plt.ylim(top=1)\n",
    "plt.xlabel('PCA Componenents')\n",
    "plt.ylabel('Explained Variance')\n",
    "\n",
    "plt.show()"
   ]
  },
  {
   "cell_type": "code",
   "execution_count": 8,
   "id": "c2f19b2b-f3ac-4a16-8f28-edcf52ee1485",
   "metadata": {},
   "outputs": [
    {
     "name": "stdout",
     "output_type": "stream",
     "text": [
      "37 components will be used in PCA\n"
     ]
    }
   ],
   "source": [
    "increments = pd.Series(explained_variance).diff()\n",
    "n_components = increments[increments < 0.01].head(1).index[0]\n",
    "print(f'{n_components} components will be used in PCA'\n",
    "     )"
   ]
  },
  {
   "cell_type": "code",
   "execution_count": 9,
   "id": "2adbe72d-8d8e-4056-b928-67625b382804",
   "metadata": {},
   "outputs": [
    {
     "data": {
      "text/html": [
       "<div>\n",
       "<style scoped>\n",
       "    .dataframe tbody tr th:only-of-type {\n",
       "        vertical-align: middle;\n",
       "    }\n",
       "\n",
       "    .dataframe tbody tr th {\n",
       "        vertical-align: top;\n",
       "    }\n",
       "\n",
       "    .dataframe thead th {\n",
       "        text-align: right;\n",
       "    }\n",
       "</style>\n",
       "<table border=\"1\" class=\"dataframe\">\n",
       "  <thead>\n",
       "    <tr style=\"text-align: right;\">\n",
       "      <th></th>\n",
       "      <th>0</th>\n",
       "      <th>1</th>\n",
       "      <th>2</th>\n",
       "      <th>3</th>\n",
       "      <th>4</th>\n",
       "    </tr>\n",
       "    <tr>\n",
       "      <th>individual</th>\n",
       "      <th></th>\n",
       "      <th></th>\n",
       "      <th></th>\n",
       "      <th></th>\n",
       "      <th></th>\n",
       "    </tr>\n",
       "  </thead>\n",
       "  <tbody>\n",
       "    <tr>\n",
       "      <th>H223</th>\n",
       "      <td>18.340243</td>\n",
       "      <td>20.825835</td>\n",
       "      <td>-17.729945</td>\n",
       "      <td>13.418951</td>\n",
       "      <td>-15.678389</td>\n",
       "    </tr>\n",
       "    <tr>\n",
       "      <th>H224</th>\n",
       "      <td>12.314263</td>\n",
       "      <td>25.987810</td>\n",
       "      <td>-11.261078</td>\n",
       "      <td>3.046597</td>\n",
       "      <td>-10.571137</td>\n",
       "    </tr>\n",
       "    <tr>\n",
       "      <th>H225</th>\n",
       "      <td>8.012761</td>\n",
       "      <td>20.284830</td>\n",
       "      <td>-2.970114</td>\n",
       "      <td>3.415163</td>\n",
       "      <td>-15.405132</td>\n",
       "    </tr>\n",
       "    <tr>\n",
       "      <th>H226</th>\n",
       "      <td>34.803789</td>\n",
       "      <td>-15.939258</td>\n",
       "      <td>-19.751026</td>\n",
       "      <td>5.664299</td>\n",
       "      <td>-13.279414</td>\n",
       "    </tr>\n",
       "    <tr>\n",
       "      <th>H227</th>\n",
       "      <td>-23.291799</td>\n",
       "      <td>-8.902903</td>\n",
       "      <td>-9.867072</td>\n",
       "      <td>-4.734554</td>\n",
       "      <td>-8.014487</td>\n",
       "    </tr>\n",
       "  </tbody>\n",
       "</table>\n",
       "</div>"
      ],
      "text/plain": [
       "                    0          1          2          3          4\n",
       "individual                                                       \n",
       "H223        18.340243  20.825835 -17.729945  13.418951 -15.678389\n",
       "H224        12.314263  25.987810 -11.261078   3.046597 -10.571137\n",
       "H225         8.012761  20.284830  -2.970114   3.415163 -15.405132\n",
       "H226        34.803789 -15.939258 -19.751026   5.664299 -13.279414\n",
       "H227       -23.291799  -8.902903  -9.867072  -4.734554  -8.014487"
      ]
     },
     "execution_count": 9,
     "metadata": {},
     "output_type": "execute_result"
    }
   ],
   "source": [
    "pca = PCA(n_components=n_components)\n",
    "pca_df = pd.DataFrame(pca.fit_transform(scaled_df))\n",
    "\n",
    "pca_df['individual'] = df.index.values\n",
    "pca_df.set_index(['individual'], inplace=True)\n",
    "pca_df.to_csv('data/preprocessed.csv')\n",
    "\n",
    "pca_df.iloc[:5, :5]"
   ]
  },
  {
   "cell_type": "markdown",
   "id": "a7b17fcc-517b-4070-a5d1-2224bd066abd",
   "metadata": {
    "tags": []
   },
   "source": [
    "## 2. Modeling\n",
    "\n",
    "### 2.1 Mean Shift\n",
    "\n",
    "Mean Shift clustering aims to discover blobs in a smooth density of samples. It is a centroid based algorithm, which works by updating candidates for centroids to be the mean of the points within a given region.\n",
    "\n",
    "The Mean Shift did not return a good result. 40 individuals where classified as the same family, but other 8 families have only one individual."
   ]
  },
  {
   "cell_type": "code",
   "execution_count": 10,
   "id": "d8ccd4d7-caa2-4125-84f2-81eb42d73ea1",
   "metadata": {},
   "outputs": [
    {
     "data": {
      "text/plain": [
       "0    40\n",
       "1     1\n",
       "2     1\n",
       "3     1\n",
       "4     1\n",
       "5     1\n",
       "6     1\n",
       "7     1\n",
       "8     1\n",
       "dtype: int64"
      ]
     },
     "execution_count": 10,
     "metadata": {},
     "output_type": "execute_result"
    }
   ],
   "source": [
    "meanshift = MeanShift().fit(pca_df)\n",
    "pd.Series(\n",
    "    collections.Counter(meanshift.labels_)\n",
    ").sort_index()"
   ]
  },
  {
   "cell_type": "markdown",
   "id": "1e2d37d1-7ca7-4f85-8ecf-7e2415b0a521",
   "metadata": {},
   "source": [
    "### 2.2 Affinity Propagation\n",
    "\n",
    "Affinity Propagation creates clusters by sending messages between pairs of samples until convergence. A dataset is then described using a small number of exemplars, which are identified as those most representative of other samples. The messages sent between pairs represent the suitability for one sample to be the exemplar of the other, which is updated in response to the values from other pairs. This updating happens iteratively until convergence, at which point the final exemplars are chosen, and hence the final clustering is given.\n",
    "\n",
    "This algorithm seems to return a better result than Mean Shift. We can see 4 families with number of individuals varying from 3 to 19, and other 4 individuals that don't belong to these families."
   ]
  },
  {
   "cell_type": "code",
   "execution_count": 11,
   "id": "cf998718-d6c5-45f8-b807-89b8c4af25ad",
   "metadata": {},
   "outputs": [
    {
     "data": {
      "text/plain": [
       "0     3\n",
       "1    15\n",
       "2     1\n",
       "3     7\n",
       "4     1\n",
       "5     1\n",
       "6    19\n",
       "7     1\n",
       "dtype: int64"
      ]
     },
     "execution_count": 11,
     "metadata": {},
     "output_type": "execute_result"
    }
   ],
   "source": [
    "affprop = AffinityPropagation(\n",
    "    random_state=3\n",
    ").fit(pca_df)\n",
    "pd.Series(\n",
    "    collections.Counter(affprop.labels_)\n",
    ").sort_index()"
   ]
  },
  {
   "cell_type": "markdown",
   "id": "8d1ae1d0-bc86-4d6a-982c-b15476fb2228",
   "metadata": {
    "tags": []
   },
   "source": [
    "## 3. Results\n",
    "\n",
    "We can se that the best results were given by the Affinity Propagation algorithm. Mean Shift returned only one family and another 8 individuals.\n",
    "\n",
    "The final results choosen is the Affinity Propagation output, the dataset contains 4 families."
   ]
  },
  {
   "cell_type": "code",
   "execution_count": 12,
   "id": "87979858-9bff-442e-9312-37542fdaf071",
   "metadata": {},
   "outputs": [],
   "source": [
    "results = pd.DataFrame()\n",
    "\n",
    "results['individual'] = df.index.values\n",
    "results['family'] = affprop.labels_\n",
    "\n",
    "results.to_csv(\n",
    "    'data/results.csv',\n",
    "    index=False,\n",
    ")"
   ]
  },
  {
   "cell_type": "markdown",
   "id": "a44fbf57-a1c0-4834-8816-930d9b2024b1",
   "metadata": {},
   "source": [
    "## References\n",
    "\n",
    "1. [CureFFI](https://www.cureffi.org/2013/09/12/counts-vs-fpkms-in-rna-seq/)\n",
    "2. [Clustering Algorithms](https://scikit-learn.org/stable/modules/clustering.html)\n",
    "3. [MinMaxScaler](https://scikit-learn.org/stable/modules/generated/sklearn.preprocessing.MinMaxScaler.html)"
   ]
  }
 ],
 "metadata": {
  "jupytext": {
   "formats": "ipynb"
  },
  "kernelspec": {
   "display_name": "Python 3 (ipykernel)",
   "language": "python",
   "name": "python3"
  },
  "language_info": {
   "codemirror_mode": {
    "name": "ipython",
    "version": 3
   },
   "file_extension": ".py",
   "mimetype": "text/x-python",
   "name": "python",
   "nbconvert_exporter": "python",
   "pygments_lexer": "ipython3",
   "version": "3.8.10"
  }
 },
 "nbformat": 4,
 "nbformat_minor": 5
}
